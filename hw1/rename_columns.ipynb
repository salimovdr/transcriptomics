{
 "cells": [
  {
   "cell_type": "code",
   "execution_count": 13,
   "id": "489dfbdf-7d7f-4bf7-bb52-21cb35ab963d",
   "metadata": {},
   "outputs": [],
   "source": [
    "import pandas as pd"
   ]
  },
  {
   "cell_type": "markdown",
   "id": "aa9b6b6d-c15b-4dcc-988c-35fc2b1a6278",
   "metadata": {},
   "source": [
    "## Preprocessing"
   ]
  },
  {
   "cell_type": "code",
   "execution_count": 14,
   "id": "f6f7222d-a0e4-43f8-a8be-26a67bbeb5d7",
   "metadata": {},
   "outputs": [],
   "source": [
    "df_chimp = pd.read_csv('GSE151397_OrthologousExonRawGeneCounts_Chimpanzee.tsv', sep='\\t', skiprows=1)\n",
    "df_human = pd.read_csv('GSE151397_OrthologousExonRawGeneCounts_Human.tsv', sep='\\t', skiprows=1)"
   ]
  },
  {
   "cell_type": "code",
   "execution_count": 16,
   "id": "a8feca01-cdb4-40c6-9ed0-ed1c69dbf833",
   "metadata": {},
   "outputs": [],
   "source": [
    "def rename_columns(df, animal):\n",
    "    columns = df.columns.tolist()\n",
    "    new_column_names = columns[:6] + [f'{animal}{i+1}' for i in range(len(columns) - 6)]\n",
    "    df.columns = new_column_names\n",
    "    df = df.drop(columns=['Chr', 'Length', 'Start', 'End', 'Strand'])\n",
    "    return df\n",
    "\n",
    "df_chimp = rename_columns(df_chimp, 'chimp')\n",
    "df_human = rename_columns(df_human, 'human')"
   ]
  },
  {
   "cell_type": "code",
   "execution_count": 17,
   "id": "fd288522-0fce-4b6b-bff2-6146c348e668",
   "metadata": {},
   "outputs": [],
   "source": [
    "df_chimp.to_csv('counts_chimp.csv', index=False)\n",
    "df_human.to_csv('counts_human.csv', index=False)"
   ]
  }
 ],
 "metadata": {
  "kernelspec": {
   "display_name": "Python 3 (ipykernel)",
   "language": "python",
   "name": "python3"
  },
  "language_info": {
   "codemirror_mode": {
    "name": "ipython",
    "version": 3
   },
   "file_extension": ".py",
   "mimetype": "text/x-python",
   "name": "python",
   "nbconvert_exporter": "python",
   "pygments_lexer": "ipython3",
   "version": "3.12.2"
  }
 },
 "nbformat": 4,
 "nbformat_minor": 5
}
