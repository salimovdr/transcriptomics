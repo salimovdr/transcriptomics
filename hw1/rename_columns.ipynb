{
 "cells": [
  {
   "cell_type": "code",
   "execution_count": 27,
   "id": "489dfbdf-7d7f-4bf7-bb52-21cb35ab963d",
   "metadata": {},
   "outputs": [
    {
     "ename": "ModuleNotFoundError",
     "evalue": "No module named 'edgePy'",
     "output_type": "error",
     "traceback": [
      "\u001b[0;31m---------------------------------------------------------------------------\u001b[0m",
      "\u001b[0;31mModuleNotFoundError\u001b[0m                       Traceback (most recent call last)",
      "Cell \u001b[0;32mIn[27], line 2\u001b[0m\n\u001b[1;32m      1\u001b[0m \u001b[38;5;28;01mimport\u001b[39;00m \u001b[38;5;21;01mpandas\u001b[39;00m \u001b[38;5;28;01mas\u001b[39;00m \u001b[38;5;21;01mpd\u001b[39;00m\n\u001b[0;32m----> 2\u001b[0m \u001b[38;5;28;01mfrom\u001b[39;00m \u001b[38;5;21;01medgePy\u001b[39;00m\u001b[38;5;21;01m.\u001b[39;00m\u001b[38;5;21;01mdata\u001b[39;00m \u001b[38;5;28;01mimport\u001b[39;00m RNAseqData\n\u001b[1;32m      3\u001b[0m \u001b[38;5;28;01mfrom\u001b[39;00m \u001b[38;5;21;01mscipy\u001b[39;00m\u001b[38;5;21;01m.\u001b[39;00m\u001b[38;5;21;01mstats\u001b[39;00m \u001b[38;5;28;01mimport\u001b[39;00m norm\n\u001b[1;32m      4\u001b[0m \u001b[38;5;28;01mimport\u001b[39;00m \u001b[38;5;21;01mnumpy\u001b[39;00m \u001b[38;5;28;01mas\u001b[39;00m \u001b[38;5;21;01mnp\u001b[39;00m\n",
      "\u001b[0;31mModuleNotFoundError\u001b[0m: No module named 'edgePy'"
     ]
    }
   ],
   "source": [
    "import pandas as pd\n",
    "from edgePy.data import RNAseqData\n",
    "from scipy.stats import norm\n",
    "import numpy as np"
   ]
  },
  {
   "cell_type": "markdown",
   "id": "aa9b6b6d-c15b-4dcc-988c-35fc2b1a6278",
   "metadata": {},
   "source": [
    "## Preprocessing"
   ]
  },
  {
   "cell_type": "code",
   "execution_count": 24,
   "id": "f6f7222d-a0e4-43f8-a8be-26a67bbeb5d7",
   "metadata": {},
   "outputs": [],
   "source": [
    "df_chimp = pd.read_csv('GSE151397_OrthologousExonRawGeneCounts_Chimpanzee.tsv', sep='\\t', skiprows=1)\n",
    "df_human = pd.read_csv('GSE151397_OrthologousExonRawGeneCounts_Human.tsv', sep='\\t', skiprows=1)"
   ]
  },
  {
   "cell_type": "code",
   "execution_count": 25,
   "id": "a8feca01-cdb4-40c6-9ed0-ed1c69dbf833",
   "metadata": {},
   "outputs": [],
   "source": [
    "def rename_columns(df, animal):\n",
    "    columns = df.columns.tolist()\n",
    "    new_column_names = columns[:6] + [f'{animal}{i+1}' for i in range(len(columns) - 6)]\n",
    "    df.columns = new_column_names\n",
    "    df = df.drop(columns=['Chr', 'Start', 'End', 'Strand'])\n",
    "    return df\n",
    "\n",
    "df_chimp = rename_columns(df_chimp, 'chimp')\n",
    "df_human = rename_columns(df_human, 'human')"
   ]
  },
  {
   "cell_type": "code",
   "execution_count": 26,
   "id": "fd288522-0fce-4b6b-bff2-6146c348e668",
   "metadata": {},
   "outputs": [],
   "source": [
    "df_chimp.to_csv('counts_chimp.csv', index=False)\n",
    "df_human.to_csv('counts_human.csv', index=False)"
   ]
  },
  {
   "cell_type": "markdown",
   "id": "8a1d110b-dbd6-41ce-ada7-3ae8676e3ac3",
   "metadata": {},
   "source": [
    "## Normalization"
   ]
  },
  {
   "cell_type": "code",
   "execution_count": null,
   "id": "4990ae5c-1a8f-4ac0-bdec-626b28de1270",
   "metadata": {},
   "outputs": [],
   "source": []
  }
 ],
 "metadata": {
  "kernelspec": {
   "display_name": "Python 3 (ipykernel)",
   "language": "python",
   "name": "python3"
  },
  "language_info": {
   "codemirror_mode": {
    "name": "ipython",
    "version": 3
   },
   "file_extension": ".py",
   "mimetype": "text/x-python",
   "name": "python",
   "nbconvert_exporter": "python",
   "pygments_lexer": "ipython3",
   "version": "3.12.2"
  }
 },
 "nbformat": 4,
 "nbformat_minor": 5
}
