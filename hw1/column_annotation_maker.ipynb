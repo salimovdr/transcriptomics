{
 "cells": [
  {
   "cell_type": "code",
   "execution_count": 3,
   "id": "f10b24be-a698-45f0-9b78-278683b4afa7",
   "metadata": {},
   "outputs": [],
   "source": [
    "import pandas as pd\n",
    "\n",
    "num_human_samples = 49\n",
    "num_chimp_samples = 39\n",
    "\n",
    "human_samples = [f\"human{i+1}\" for i in range(num_human_samples)]\n",
    "chimp_samples = [f\"chimp{i+1}\" for i in range(num_chimp_samples)]\n",
    "\n",
    "samples = human_samples + chimp_samples\n",
    "species = [\"Human\"] * num_human_samples + [\"Chimpanzee\"] * num_chimp_samples\n",
    "\n",
    "annotation_df = pd.DataFrame({\"Name\": samples, \"Species\": species})\n",
    "annotation_df.to_csv(\"column_annotation.tsv\", sep='\\t', index=False)"
   ]
  },
  {
   "cell_type": "code",
   "execution_count": null,
   "id": "05483ef0-6609-4d95-a178-5bd4f37049f1",
   "metadata": {},
   "outputs": [],
   "source": []
  }
 ],
 "metadata": {
  "kernelspec": {
   "display_name": "Python 3 (ipykernel)",
   "language": "python",
   "name": "python3"
  },
  "language_info": {
   "codemirror_mode": {
    "name": "ipython",
    "version": 3
   },
   "file_extension": ".py",
   "mimetype": "text/x-python",
   "name": "python",
   "nbconvert_exporter": "python",
   "pygments_lexer": "ipython3",
   "version": "3.12.2"
  }
 },
 "nbformat": 4,
 "nbformat_minor": 5
}
