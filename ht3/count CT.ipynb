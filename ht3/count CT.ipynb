{
 "cells": [
  {
   "cell_type": "code",
   "execution_count": 33,
   "id": "808c9a06-1730-400e-9f29-7631d0cfac8d",
   "metadata": {},
   "outputs": [],
   "source": [
    "import pandas as pd\n",
    "import matplotlib.pyplot as plt\n",
    "import seaborn as sns\n",
    "from scipy.stats import mannwhitneyu"
   ]
  },
  {
   "cell_type": "code",
   "execution_count": 5,
   "id": "656fd513-00e5-44b6-8314-a4717a60ad31",
   "metadata": {},
   "outputs": [
    {
     "data": {
      "text/html": [
       "<div>\n",
       "<style scoped>\n",
       "    .dataframe tbody tr th:only-of-type {\n",
       "        vertical-align: middle;\n",
       "    }\n",
       "\n",
       "    .dataframe tbody tr th {\n",
       "        vertical-align: top;\n",
       "    }\n",
       "\n",
       "    .dataframe thead th {\n",
       "        text-align: right;\n",
       "    }\n",
       "</style>\n",
       "<table border=\"1\" class=\"dataframe\">\n",
       "  <thead>\n",
       "    <tr style=\"text-align: right;\">\n",
       "      <th></th>\n",
       "      <th>Sample</th>\n",
       "      <th>Ct GAPDH</th>\n",
       "      <th>Ct PPARg</th>\n",
       "    </tr>\n",
       "  </thead>\n",
       "  <tbody>\n",
       "    <tr>\n",
       "      <th>0</th>\n",
       "      <td>Contr Ad d7 N1</td>\n",
       "      <td>20.445820</td>\n",
       "      <td>28.221760</td>\n",
       "    </tr>\n",
       "    <tr>\n",
       "      <th>1</th>\n",
       "      <td>Contr Ad d7 N2</td>\n",
       "      <td>20.487555</td>\n",
       "      <td>27.963959</td>\n",
       "    </tr>\n",
       "    <tr>\n",
       "      <th>2</th>\n",
       "      <td>Contr Ad d7 N3</td>\n",
       "      <td>20.628016</td>\n",
       "      <td>28.294661</td>\n",
       "    </tr>\n",
       "    <tr>\n",
       "      <th>3</th>\n",
       "      <td>Contr Ad d7 N4</td>\n",
       "      <td>20.961941</td>\n",
       "      <td>28.122202</td>\n",
       "    </tr>\n",
       "    <tr>\n",
       "      <th>4</th>\n",
       "      <td>V7 Ad d7 N1</td>\n",
       "      <td>20.738089</td>\n",
       "      <td>30.214193</td>\n",
       "    </tr>\n",
       "  </tbody>\n",
       "</table>\n",
       "</div>"
      ],
      "text/plain": [
       "           Sample   Ct GAPDH   Ct PPARg\n",
       "0  Contr Ad d7 N1  20.445820  28.221760\n",
       "1  Contr Ad d7 N2  20.487555  27.963959\n",
       "2  Contr Ad d7 N3  20.628016  28.294661\n",
       "3  Contr Ad d7 N4  20.961941  28.122202\n",
       "4     V7 Ad d7 N1  20.738089  30.214193"
      ]
     },
     "execution_count": 5,
     "metadata": {},
     "output_type": "execute_result"
    }
   ],
   "source": [
    "df = pd.read_csv('Ct.csv', sep='\\t')\n",
    "df.head()"
   ]
  },
  {
   "cell_type": "code",
   "execution_count": 10,
   "id": "cd67dea0-f648-436c-94a3-9a189f4bcd41",
   "metadata": {},
   "outputs": [],
   "source": [
    "df['delta_Ct'] = df['Ct PPARg'] - df['Ct GAPDH']\n",
    "df['delta_delta_CT'] = df['delta_Ct'] - min(df['delta_Ct'])\n",
    "df['effective'] = 2 ** -(df['delta_delta_CT'])\n",
    "df['effective'] /= df[:4]['effective'].mean()"
   ]
  },
  {
   "cell_type": "code",
   "execution_count": 16,
   "id": "b6912166-6e04-4f64-8267-e90bf86d7654",
   "metadata": {
    "scrolled": true
   },
   "outputs": [
    {
     "data": {
      "text/html": [
       "<div>\n",
       "<style scoped>\n",
       "    .dataframe tbody tr th:only-of-type {\n",
       "        vertical-align: middle;\n",
       "    }\n",
       "\n",
       "    .dataframe tbody tr th {\n",
       "        vertical-align: top;\n",
       "    }\n",
       "\n",
       "    .dataframe thead th {\n",
       "        text-align: right;\n",
       "    }\n",
       "</style>\n",
       "<table border=\"1\" class=\"dataframe\">\n",
       "  <thead>\n",
       "    <tr style=\"text-align: right;\">\n",
       "      <th></th>\n",
       "      <th>Sample</th>\n",
       "      <th>Ct GAPDH</th>\n",
       "      <th>Ct PPARg</th>\n",
       "      <th>delta_Ct</th>\n",
       "      <th>delta_delta_CT</th>\n",
       "      <th>effective</th>\n",
       "    </tr>\n",
       "  </thead>\n",
       "  <tbody>\n",
       "    <tr>\n",
       "      <th>0</th>\n",
       "      <td>Contr Ad d7 N1</td>\n",
       "      <td>20.445820</td>\n",
       "      <td>28.221760</td>\n",
       "      <td>7.775940</td>\n",
       "      <td>0.615679</td>\n",
       "      <td>0.826151</td>\n",
       "    </tr>\n",
       "    <tr>\n",
       "      <th>1</th>\n",
       "      <td>Contr Ad d7 N2</td>\n",
       "      <td>20.487555</td>\n",
       "      <td>27.963959</td>\n",
       "      <td>7.476404</td>\n",
       "      <td>0.316143</td>\n",
       "      <td>1.016784</td>\n",
       "    </tr>\n",
       "    <tr>\n",
       "      <th>2</th>\n",
       "      <td>Contr Ad d7 N3</td>\n",
       "      <td>20.628016</td>\n",
       "      <td>28.294661</td>\n",
       "      <td>7.666645</td>\n",
       "      <td>0.506384</td>\n",
       "      <td>0.891170</td>\n",
       "    </tr>\n",
       "    <tr>\n",
       "      <th>3</th>\n",
       "      <td>Contr Ad d7 N4</td>\n",
       "      <td>20.961941</td>\n",
       "      <td>28.122202</td>\n",
       "      <td>7.160261</td>\n",
       "      <td>0.000000</td>\n",
       "      <td>1.265894</td>\n",
       "    </tr>\n",
       "    <tr>\n",
       "      <th>4</th>\n",
       "      <td>V7 Ad d7 N1</td>\n",
       "      <td>20.738089</td>\n",
       "      <td>30.214193</td>\n",
       "      <td>9.476105</td>\n",
       "      <td>2.315844</td>\n",
       "      <td>0.254249</td>\n",
       "    </tr>\n",
       "    <tr>\n",
       "      <th>5</th>\n",
       "      <td>V7 Ad d7 N2</td>\n",
       "      <td>20.328524</td>\n",
       "      <td>29.771498</td>\n",
       "      <td>9.442974</td>\n",
       "      <td>2.282713</td>\n",
       "      <td>0.260155</td>\n",
       "    </tr>\n",
       "    <tr>\n",
       "      <th>6</th>\n",
       "      <td>V7 Ad d7 N3</td>\n",
       "      <td>20.714630</td>\n",
       "      <td>29.692842</td>\n",
       "      <td>8.978212</td>\n",
       "      <td>1.817951</td>\n",
       "      <td>0.359037</td>\n",
       "    </tr>\n",
       "    <tr>\n",
       "      <th>7</th>\n",
       "      <td>V7 Ad d7 N4</td>\n",
       "      <td>20.547922</td>\n",
       "      <td>29.464903</td>\n",
       "      <td>8.916981</td>\n",
       "      <td>1.756720</td>\n",
       "      <td>0.374604</td>\n",
       "    </tr>\n",
       "  </tbody>\n",
       "</table>\n",
       "</div>"
      ],
      "text/plain": [
       "           Sample   Ct GAPDH   Ct PPARg  delta_Ct  delta_delta_CT  effective\n",
       "0  Contr Ad d7 N1  20.445820  28.221760  7.775940        0.615679   0.826151\n",
       "1  Contr Ad d7 N2  20.487555  27.963959  7.476404        0.316143   1.016784\n",
       "2  Contr Ad d7 N3  20.628016  28.294661  7.666645        0.506384   0.891170\n",
       "3  Contr Ad d7 N4  20.961941  28.122202  7.160261        0.000000   1.265894\n",
       "4     V7 Ad d7 N1  20.738089  30.214193  9.476105        2.315844   0.254249\n",
       "5     V7 Ad d7 N2  20.328524  29.771498  9.442974        2.282713   0.260155\n",
       "6     V7 Ad d7 N3  20.714630  29.692842  8.978212        1.817951   0.359037\n",
       "7     V7 Ad d7 N4  20.547922  29.464903  8.916981        1.756720   0.374604"
      ]
     },
     "execution_count": 16,
     "metadata": {},
     "output_type": "execute_result"
    }
   ],
   "source": [
    "df"
   ]
  },
  {
   "cell_type": "code",
   "execution_count": 19,
   "id": "54a08fbb-0903-4a2e-8bb9-bec2fe122c20",
   "metadata": {},
   "outputs": [],
   "source": [
    "df['Group'] = df['Sample'].apply(lambda x: 'Control' if x.startswith('Contr') else 'Target')"
   ]
  },
  {
   "cell_type": "code",
   "execution_count": 34,
   "id": "d5b7a70d-f242-46df-947c-91a350dcb3dd",
   "metadata": {},
   "outputs": [],
   "source": [
    "stat, p_value = mannwhitneyu(df[:4]['effective'], df[4:]['effective'], alternative='two-sided')"
   ]
  },
  {
   "cell_type": "code",
   "execution_count": 39,
   "id": "7c338cb8-ea1e-4b49-beae-3c750c2812a2",
   "metadata": {},
   "outputs": [
    {
     "data": {
      "text/plain": [
       "<Figure size 800x600 with 0 Axes>"
      ]
     },
     "metadata": {},
     "output_type": "display_data"
    },
    {
     "data": {
      "image/png": "[encoded data removed]",
      "text/plain": [
       "<Figure size 300x600 with 1 Axes>"
      ]
     },
     "metadata": {},
     "output_type": "display_data"
    }
   ],
   "source": [
    "plt.figure(figsize=(8, 6))\n",
    "sns.catplot(data=df, x='Group', y='effective', kind='box', height=6, aspect=0.5, width=0.5,\n",
    "            palette={\"Control\": \"blue\", \"Target\": \"red\"}, hue='Group') \n",
    "sns.stripplot(data=df, x='Group', y='effective', color='black', jitter=0.2, size=5)\n",
    "plt.text(0.5, max(df['effective']) + 0.02, f'p-value = {p_value:.3f}', ha='center', fontsize=12, color='black')\n",
    "plt.title('Boxplot effective по группам: control и target')\n",
    "plt.savefig(\"pic.png\", dpi=300)\n",
    "plt.show()"
   ]
  },
  {
   "cell_type": "code",
   "execution_count": null,
   "id": "27f5c80f-8a78-4650-9d11-587df4108f96",
   "metadata": {},
   "outputs": [],
   "source": []
  }
 ],
 "metadata": {
  "kernelspec": {
   "display_name": "Python 3 (ipykernel)",
   "language": "python",
   "name": "python3"
  },
  "language_info": {
   "codemirror_mode": {
    "name": "ipython",
    "version": 3
   },
   "file_extension": ".py",
   "mimetype": "text/x-python",
   "name": "python",
   "nbconvert_exporter": "python",
   "pygments_lexer": "ipython3",
   "version": "3.12.2"
  }
 },
 "nbformat": 4,
 "nbformat_minor": 5
}
